{
 "cells": [
  {
   "cell_type": "code",
   "execution_count": 17,
   "id": "e63c9e43",
   "metadata": {},
   "outputs": [],
   "source": [
    "import sympy as smp\n",
    "from sympy import Dummy"
   ]
  },
  {
   "cell_type": "code",
   "execution_count": 18,
   "id": "d2e9182b",
   "metadata": {},
   "outputs": [],
   "source": [
    "def picard_solver(x_0,y_0, exp, it_count):\n",
    "    phi= smp.symbols(\"phi\")\n",
    "    x=Dummy(\"x\")\n",
    "    phi=x_0\n",
    "    \n",
    "    for i in range(it_count+1):\n",
    "        phi=y_0+smp.integrate(exp(x,phi),(x,x_0,x))\n",
    "    return phi"
   ]
  },
  {
   "cell_type": "code",
   "execution_count": 19,
   "id": "b7bfc5b8",
   "metadata": {},
   "outputs": [],
   "source": [
    "x,y= smp.symbols(\"x y\")\n"
   ]
  },
  {
   "cell_type": "code",
   "execution_count": 20,
   "id": "ecedb977",
   "metadata": {},
   "outputs": [],
   "source": [
    "exp=lambda x,y:x+y"
   ]
  },
  {
   "cell_type": "code",
   "execution_count": 21,
   "id": "4561f5d6",
   "metadata": {},
   "outputs": [],
   "source": [
    "z=picard_solver(0,0,exp,5)"
   ]
  },
  {
   "cell_type": "code",
   "execution_count": 22,
   "id": "2064e8de",
   "metadata": {},
   "outputs": [
    {
     "data": {
      "text/latex": [
       "$\\displaystyle \\frac{x^{7}}{5040} + \\frac{x^{6}}{720} + \\frac{x^{5}}{120} + \\frac{x^{4}}{24} + \\frac{x^{3}}{6} + \\frac{x^{2}}{2}$"
      ],
      "text/plain": [
       "_x**7/5040 + _x**6/720 + _x**5/120 + _x**4/24 + _x**3/6 + _x**2/2"
      ]
     },
     "execution_count": 22,
     "metadata": {},
     "output_type": "execute_result"
    }
   ],
   "source": [
    "z"
   ]
  },
  {
   "cell_type": "code",
   "execution_count": 23,
   "id": "ee1f5f15",
   "metadata": {},
   "outputs": [],
   "source": [
    "z= picard_solver(0,1,lambda x,y:y,5)"
   ]
  },
  {
   "cell_type": "code",
   "execution_count": 24,
   "id": "c377c6be",
   "metadata": {},
   "outputs": [
    {
     "data": {
      "text/latex": [
       "$\\displaystyle \\frac{x^{5}}{120} + \\frac{x^{4}}{24} + \\frac{x^{3}}{6} + \\frac{x^{2}}{2} + x + 1$"
      ],
      "text/plain": [
       "_x**5/120 + _x**4/24 + _x**3/6 + _x**2/2 + _x + 1"
      ]
     },
     "execution_count": 24,
     "metadata": {},
     "output_type": "execute_result"
    }
   ],
   "source": [
    "z"
   ]
  },
  {
   "cell_type": "code",
   "execution_count": null,
   "id": "a2d22a4e",
   "metadata": {},
   "outputs": [],
   "source": []
  }
 ],
 "metadata": {
  "kernelspec": {
   "display_name": "Python 3",
   "language": "python",
   "name": "python3"
  },
  "language_info": {
   "codemirror_mode": {
    "name": "ipython",
    "version": 3
   },
   "file_extension": ".py",
   "mimetype": "text/x-python",
   "name": "python",
   "nbconvert_exporter": "python",
   "pygments_lexer": "ipython3",
   "version": "3.8.8"
  }
 },
 "nbformat": 4,
 "nbformat_minor": 5
}
